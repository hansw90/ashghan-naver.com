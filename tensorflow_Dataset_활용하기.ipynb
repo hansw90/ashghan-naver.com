{
  "nbformat": 4,
  "nbformat_minor": 0,
  "metadata": {
    "colab": {
      "name": "tensorflow_Dataset 활용하기",
      "provenance": [],
      "toc_visible": true
    },
    "kernelspec": {
      "name": "python3",
      "display_name": "Python 3"
    }
  },
  "cells": [
    {
      "cell_type": "markdown",
      "metadata": {
        "id": "n6uJAHCl_pXC",
        "colab_type": "text"
      },
      "source": [
        "# Tf.data.dataset 활용"
      ]
    },
    {
      "cell_type": "markdown",
      "metadata": {
        "id": "NqSnb4uBBye_",
        "colab_type": "text"
      },
      "source": [
        "Represnets a potentially large set of elements\n",
        "\n",
        "tensorflow 에서 feed-dict 만을 사용해서 데이터를 처리하는 방법은 느리고 권장되는 방법이 아니다. 모델에 데이터를 제대로 공급하려면 입력 파이프라인을 만들어 GPU로 들어올 데이터를 효율적으로 공급해 주어야 한다.  \n",
        "\n",
        "이를 위해 tensorflow에서는 dataset이라는 built-in-API를 제공하고 있어 위의 작업을 쉽게 처리할 수 있다.  \n",
        "\n",
        "아래서는 dataset을 사용하여 입력 파이프라인을 직접 만들어보고 모델에 데이터를 효율적으로 공급하는 방법을 알아본다. "
      ]
    },
    {
      "cell_type": "markdown",
      "metadata": {
        "id": "vRf-PNHtCvlU",
        "colab_type": "text"
      },
      "source": [
        "### Dataset을 사용하기 위한 3단계\n",
        "\n",
        "1. 데이터 불러오기 : 사용하려는 데이터로부터 Dataset 인스턴스를 만든다.\n",
        "2. Iterator(반복자) 생성 : 생성된 데이터를 사용하여 Iterator 인스턴스를 만들어 Dataset을 iterate한다.\n",
        "3. 데이터 사용 : 생성된 iterator를 사용해서 모델에 공극ㅂ할 dataset으로 부터 요소를 가져올 수 있다.\n",
        "\n",
        "(iteration)반복은 스트리밍 방식으로 발생하므로 전체 데이터 세트가 메모리에 맞지 않아도 된다."
      ]
    },
    {
      "cell_type": "markdown",
      "metadata": {
        "id": "UhmmuLtyF7Nk",
        "colab_type": "text"
      },
      "source": [
        "### 1. 데이터를 불러오자\n",
        "\n",
        "일단 dataset안에 넣을 데이터를 불러온다.\n",
        "\n",
        "### numpy에서 불러오기\n",
        "numpy 배열이 있고 그걸 tensorflow에 넣는 방법"
      ]
    },
    {
      "cell_type": "code",
      "metadata": {
        "id": "dWZGQQUV_lAC",
        "colab_type": "code",
        "colab": {}
      },
      "source": [
        "import numpy as np\n",
        "import tensorflow as tf"
      ],
      "execution_count": 0,
      "outputs": []
    },
    {
      "cell_type": "code",
      "metadata": {
        "id": "kWR-p-SgGOKQ",
        "colab_type": "code",
        "colab": {}
      },
      "source": [
        "x = np.random.sample((100,2))"
      ],
      "execution_count": 0,
      "outputs": []
    },
    {
      "cell_type": "code",
      "metadata": {
        "id": "3k9wN6IZGjMK",
        "colab_type": "code",
        "colab": {
          "base_uri": "https://localhost:8080/",
          "height": 34
        },
        "outputId": "4e1839d0-4787-4a2c-91c7-5d42f5abcf92"
      },
      "source": [
        "dataset = tf.data.Dataset.from_tensor_slices(x)\n",
        "dataset"
      ],
      "execution_count": 5,
      "outputs": [
        {
          "output_type": "execute_result",
          "data": {
            "text/plain": [
              "<TensorSliceDataset shapes: (2,), types: tf.float64>"
            ]
          },
          "metadata": {
            "tags": []
          },
          "execution_count": 5
        }
      ]
    },
    {
      "cell_type": "code",
      "metadata": {
        "id": "NFuuiRMlJdSk",
        "colab_type": "code",
        "colab": {
          "base_uri": "https://localhost:8080/",
          "height": 123
        },
        "outputId": "48b2f9f3-c88e-4304-a600-bb74cf7cebd6"
      },
      "source": [
        "for idx,element in enumerate(dataset):\n",
        "  if idx > 5 :\n",
        "    break\n",
        "  print(element)"
      ],
      "execution_count": 11,
      "outputs": [
        {
          "output_type": "stream",
          "text": [
            "tf.Tensor([0.58150379 0.92254424], shape=(2,), dtype=float64)\n",
            "tf.Tensor([0.96896941 0.64480046], shape=(2,), dtype=float64)\n",
            "tf.Tensor([0.16717264 0.59388047], shape=(2,), dtype=float64)\n",
            "tf.Tensor([0.9403603  0.04906635], shape=(2,), dtype=float64)\n",
            "tf.Tensor([0.74319037 0.8906696 ], shape=(2,), dtype=float64)\n",
            "tf.Tensor([0.18302749 0.90372335], shape=(2,), dtype=float64)\n"
          ],
          "name": "stdout"
        }
      ]
    },
    {
      "cell_type": "markdown",
      "metadata": {
        "id": "xnOqbLXFK8nb",
        "colab_type": "text"
      },
      "source": [
        "또한 데이터를 우리가 학습시킬때 처럼 데이터 특성(feature)과 라벨(label)로 나누어 사용하는 경우처럼, 한개이상의 numpy 배열을 넣는것도 가능하다."
      ]
    },
    {
      "cell_type": "code",
      "metadata": {
        "id": "aV9pEEcJKfuL",
        "colab_type": "code",
        "colab": {
          "base_uri": "https://localhost:8080/",
          "height": 141
        },
        "outputId": "f70ababb-ba27-4f92-e973-60f721a5a050"
      },
      "source": [
        "features, labels = (np.random.sample((100,2)), np.random.sample((100,1)))\n",
        "dataset = tf.data.Dataset.from_tensor_slices((features,labels))\n",
        "for idx,element in enumerate(dataset):\n",
        "  if idx > 5 :\n",
        "    break\n",
        "  print(element)"
      ],
      "execution_count": 12,
      "outputs": [
        {
          "output_type": "stream",
          "text": [
            "(<tf.Tensor: shape=(2,), dtype=float64, numpy=array([0.76700221, 0.8580802 ])>, <tf.Tensor: shape=(1,), dtype=float64, numpy=array([0.23088477])>)\n",
            "(<tf.Tensor: shape=(2,), dtype=float64, numpy=array([0.30859757, 0.80056717])>, <tf.Tensor: shape=(1,), dtype=float64, numpy=array([0.15271162])>)\n",
            "(<tf.Tensor: shape=(2,), dtype=float64, numpy=array([0.69157562, 0.44435759])>, <tf.Tensor: shape=(1,), dtype=float64, numpy=array([0.54916617])>)\n",
            "(<tf.Tensor: shape=(2,), dtype=float64, numpy=array([0.09089438, 0.62459401])>, <tf.Tensor: shape=(1,), dtype=float64, numpy=array([0.21828884])>)\n",
            "(<tf.Tensor: shape=(2,), dtype=float64, numpy=array([0.27987142, 0.39742835])>, <tf.Tensor: shape=(1,), dtype=float64, numpy=array([0.32603395])>)\n",
            "(<tf.Tensor: shape=(2,), dtype=float64, numpy=array([0.85457713, 0.81044612])>, <tf.Tensor: shape=(1,), dtype=float64, numpy=array([0.14107503])>)\n"
          ],
          "name": "stdout"
        }
      ]
    },
    {
      "cell_type": "markdown",
      "metadata": {
        "id": "42BoJGvuLVgi",
        "colab_type": "text"
      },
      "source": [
        "### tensor에서 불러오기\n",
        "\n",
        "tensor를 사용하여 dataset을 초기화 할 수도 있다."
      ]
    },
    {
      "cell_type": "code",
      "metadata": {
        "id": "fj4nCAcCKn-b",
        "colab_type": "code",
        "colab": {}
      },
      "source": [
        "dataset = tf.data.Dataset.from_tensor_slices(tf.random.uniform([100, 2]))"
      ],
      "execution_count": 0,
      "outputs": []
    },
    {
      "cell_type": "code",
      "metadata": {
        "id": "EKhsYkoiLoMz",
        "colab_type": "code",
        "colab": {
          "base_uri": "https://localhost:8080/",
          "height": 125
        },
        "outputId": "7043b72d-dc39-4686-cb85-4df6a0e519f7"
      },
      "source": [
        "for idx,element in enumerate(dataset):\n",
        "  if idx > 5 :\n",
        "    break\n",
        "  print(element)"
      ],
      "execution_count": 18,
      "outputs": [
        {
          "output_type": "stream",
          "text": [
            "tf.Tensor([0.7001499 0.5962088], shape=(2,), dtype=float32)\n",
            "tf.Tensor([0.4115411  0.02957225], shape=(2,), dtype=float32)\n",
            "tf.Tensor([0.2660693 0.8786987], shape=(2,), dtype=float32)\n",
            "tf.Tensor([0.8970568  0.94381356], shape=(2,), dtype=float32)\n",
            "tf.Tensor([0.63548017 0.77995265], shape=(2,), dtype=float32)\n",
            "tf.Tensor([0.36507785 0.28371108], shape=(2,), dtype=float32)\n"
          ],
          "name": "stdout"
        }
      ]
    },
    {
      "cell_type": "markdown",
      "metadata": {
        "id": "tDH6_o4QO9mU",
        "colab_type": "text"
      },
      "source": [
        "### generator에서 불러오기\n",
        "\n",
        "generator를 사용해서 dataset을 초기화가 간으한데, 데이터의 원소들이 다른 크기를 가지고 있을때 유용, 이런경우 tensor를 만들 때 사용할 데이터의 type과 shape까지 지정해야 한다. \n",
        "\n",
        "#### Generator 란?\n",
        "- generator : iterator를 생성해주는 함수, 함수안에 yield 키워드를 사용\n",
        "- generator 특징\n",
        "  - iterable한 순서가 지정됨(모든 generator는 iterator)\n",
        "  - 느슨하게 평가된다 (순서의 다음 값은 필요에 따라 계산)\n",
        "  - 함수의 내부 로컬 변수를 통해 내부상태가 유지된다.\n",
        "  - 무한한 순서가 있는 객체를 모델링 할 수 있다. (명확한 끝이 없는 데이터 스트림)\n",
        "  - 자연스러운 스트림 처리를 위 파이프라인으로 구성할수 있다."
      ]
    },
    {
      "cell_type": "markdown",
      "metadata": {
        "id": "J7Z1jBw2l0Zv",
        "colab_type": "text"
      },
      "source": [
        "#### Generator 간단 사용\n",
        "  - REPL을 실행\n",
        "  - yield 키워드를 사용해 generator를 만들어보자\n",
        "  - yield 가 호출되면 암시적으로 return이 호출되며, 한번더 실행되면 실행되었던 'yield' 다음 코드가 실행된다."
      ]
    },
    {
      "cell_type": "code",
      "metadata": {
        "id": "FNFyuzqHmKd7",
        "colab_type": "code",
        "colab": {
          "base_uri": "https://localhost:8080/",
          "height": 35
        },
        "outputId": "e7e792a1-bd4c-482f-d5b7-a9a8328dbdf2"
      },
      "source": [
        "def test_generator() :\n",
        "  yield 1\n",
        "  yield 2\n",
        "  yield 3\n",
        "gen  = test_generator()\n",
        "type(gen), next(gen), next(gen), next(gen)"
      ],
      "execution_count": 62,
      "outputs": [
        {
          "output_type": "execute_result",
          "data": {
            "text/plain": [
              "(generator, 1, 2, 3)"
            ]
          },
          "metadata": {
            "tags": []
          },
          "execution_count": 62
        }
      ]
    },
    {
      "cell_type": "markdown",
      "metadata": {
        "id": "nnrMi64VnToz",
        "colab_type": "text"
      },
      "source": [
        "이렇게 생성한 generator는 iterable한 객체가 되며 for문에 사용가능"
      ]
    },
    {
      "cell_type": "code",
      "metadata": {
        "id": "3GAKHpKCObgt",
        "colab_type": "code",
        "colab": {
          "base_uri": "https://localhost:8080/",
          "height": 89
        },
        "outputId": "948ec619-cf4a-432d-afa1-d7d8d778258a"
      },
      "source": [
        "sequence = np.array([[[1]],\n",
        "                     [[2],[3]],\n",
        "                     [[3,4,5]],\n",
        "                     [1]])\n",
        "def generator() :  \n",
        "  for i in sequence :\n",
        "    yield i\n",
        "gen = generator()\n",
        "\n",
        "for g in gen :\n",
        "  print(g)"
      ],
      "execution_count": 68,
      "outputs": [
        {
          "output_type": "stream",
          "text": [
            "[[1]]\n",
            "[[2], [3]]\n",
            "[[3, 4, 5]]\n",
            "[1]\n"
          ],
          "name": "stdout"
        }
      ]
    },
    {
      "cell_type": "code",
      "metadata": {
        "id": "UFHsre20QwbT",
        "colab_type": "code",
        "colab": {
          "base_uri": "https://localhost:8080/",
          "height": 89
        },
        "outputId": "aa21a0a9-5c73-4b37-bb1a-2d9a321a1390"
      },
      "source": [
        "import itertools\n",
        "\n",
        "def gen() :\n",
        "  for i in itertools.count(1) :\n",
        "    yield(i, [1]*i)\n",
        "\n",
        "\n",
        "dataset = tf.data.Dataset.from_generator(\n",
        "     gen,\n",
        "     (tf.int64, tf.int64),\n",
        "     (tf.TensorShape([]), tf.TensorShape([None])))\n",
        "\n",
        "list(dataset.take(4).as_numpy_iterator())"
      ],
      "execution_count": 60,
      "outputs": [
        {
          "output_type": "execute_result",
          "data": {
            "text/plain": [
              "[(1, array([1])),\n",
              " (2, array([1, 1])),\n",
              " (3, array([1, 1, 1])),\n",
              " (4, array([1, 1, 1, 1]))]"
            ]
          },
          "metadata": {
            "tags": []
          },
          "execution_count": 60
        }
      ]
    },
    {
      "cell_type": "code",
      "metadata": {
        "id": "XxEszsdmn0MP",
        "colab_type": "code",
        "colab": {}
      },
      "source": [
        ""
      ],
      "execution_count": 0,
      "outputs": []
    },
    {
      "cell_type": "markdown",
      "metadata": {
        "id": "4S2wx0sdu2bY",
        "colab_type": "text"
      },
      "source": [
        "### 변형(Transformations)\n",
        "\n",
        "일단 dataset을 갖고 나면, transformation을 적용하여 데이터를 준비 시킬수 있다."
      ]
    },
    {
      "cell_type": "code",
      "metadata": {
        "id": "xy2chXHBr7gt",
        "colab_type": "code",
        "colab": {
          "base_uri": "https://localhost:8080/",
          "height": 35
        },
        "outputId": "541a924e-e1ba-4070-bc1d-8e3f322e20db"
      },
      "source": [
        "dataset = tf.data.Dataset.from_tensor_slices([1,2,3])\n",
        "dataset = dataset.map(lambda x : x*2)\n",
        "list(dataset.as_numpy_iterator())"
      ],
      "execution_count": 91,
      "outputs": [
        {
          "output_type": "execute_result",
          "data": {
            "text/plain": [
              "[2, 4, 6]"
            ]
          },
          "metadata": {
            "tags": []
          },
          "execution_count": 91
        }
      ]
    },
    {
      "cell_type": "code",
      "metadata": {
        "id": "M7EuhP0Ew-Y4",
        "colab_type": "code",
        "colab": {}
      },
      "source": [
        ""
      ],
      "execution_count": 0,
      "outputs": []
    }
  ]
}