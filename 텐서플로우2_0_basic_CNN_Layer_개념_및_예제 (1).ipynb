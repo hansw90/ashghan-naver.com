{
  "nbformat": 4,
  "nbformat_minor": 0,
  "metadata": {
    "colab": {
      "name": "텐서플로우2.0 basic_CNN Layer 개념 및 예제",
      "provenance": [],
      "collapsed_sections": []
    },
    "kernelspec": {
      "name": "python3",
      "display_name": "Python 3"
    },
    "accelerator": "GPU"
  },
  "cells": [
    {
      "cell_type": "markdown",
      "metadata": {
        "id": "cPy4581uDfSK",
        "colab_type": "text"
      },
      "source": [
        "# Layer 별 역할 및 개념 파악하기"
      ]
    },
    {
      "cell_type": "markdown",
      "metadata": {
        "id": "DrkInwdhdWhW",
        "colab_type": "text"
      },
      "source": [
        "우리는 아래 그림의 \n",
        "- Feature Extraction 부분과\n",
        "- Fully Connected 부분을\n",
        "\n",
        "함께 tensorflow 을 통해 구현해보도록 하겠다"
      ]
    },
    {
      "cell_type": "markdown",
      "metadata": {
        "id": "QstQNOXbdiKk",
        "colab_type": "text"
      },
      "source": [
        "![](http://solarisailab.com/wp-content/uploads/2017/05/CNNs_For_MNIST.png)"
      ]
    },
    {
      "cell_type": "markdown",
      "metadata": {
        "id": "QNPTfrA2cWV1",
        "colab_type": "text"
      },
      "source": [
        "### Feature Extraction"
      ]
    },
    {
      "cell_type": "code",
      "metadata": {
        "id": "b-XuFh9R-Pmi",
        "colab_type": "code",
        "outputId": "096af609-74be-4707-c328-a36139652fba",
        "colab": {
          "base_uri": "https://localhost:8080/",
          "height": 34
        }
      },
      "source": [
        "# tensorflow 의 버전을 확인하자 \n",
        "# 아래 예제는 2.0 버전 이상에서 돌아갑니다.\n",
        "\n",
        "\n",
        "import tensorflow as tf\n",
        "\n",
        "print(tf.__version__)"
      ],
      "execution_count": 1,
      "outputs": [
        {
          "output_type": "stream",
          "text": [
            "2.2.0-rc2\n"
          ],
          "name": "stdout"
        }
      ]
    },
    {
      "cell_type": "markdown",
      "metadata": {
        "id": "oDDuTzFFEOQg",
        "colab_type": "text"
      },
      "source": [
        "### Input Image\n",
        "\n",
        "input으로 들어갈 DataSet을 들여다보면서 시각화\n",
        "\n",
        "패키지를 로드 하자\n",
        "- os\n",
        "- glob\n",
        "- matplotlib"
      ]
    },
    {
      "cell_type": "code",
      "metadata": {
        "id": "zquHw7vLDyCJ",
        "colab_type": "code",
        "colab": {}
      },
      "source": [
        "import os\n",
        "import matplotlib.pyplot as plt\n",
        "\n",
        "%matplotlib inline"
      ],
      "execution_count": 0,
      "outputs": []
    },
    {
      "cell_type": "code",
      "metadata": {
        "id": "ACLH7hZgEkn2",
        "colab_type": "code",
        "outputId": "3b755362-5dc2-4c80-aea7-bee25f373b45",
        "colab": {
          "base_uri": "https://localhost:8080/",
          "height": 52
        }
      },
      "source": [
        "from tensorflow.keras import datasets\n",
        "\n",
        "(train_x, train_y), (test_x, test_y) = datasets.mnist.load_data()"
      ],
      "execution_count": 3,
      "outputs": [
        {
          "output_type": "stream",
          "text": [
            "Downloading data from https://storage.googleapis.com/tensorflow/tf-keras-datasets/mnist.npz\n",
            "11493376/11490434 [==============================] - 0s 0us/step\n"
          ],
          "name": "stdout"
        }
      ]
    },
    {
      "cell_type": "code",
      "metadata": {
        "id": "jrT22o6tEmTU",
        "colab_type": "code",
        "outputId": "92a49a68-3fb7-4e86-b9ed-48a95e7c7350",
        "colab": {
          "base_uri": "https://localhost:8080/",
          "height": 300
        }
      },
      "source": [
        "# 이미지 데이터 확인\n",
        "image = train_x[0]\n",
        "print(image.shape)\n",
        "plt.imshow(image, 'gray')"
      ],
      "execution_count": 4,
      "outputs": [
        {
          "output_type": "stream",
          "text": [
            "(28, 28)\n"
          ],
          "name": "stdout"
        },
        {
          "output_type": "execute_result",
          "data": {
            "text/plain": [
              "<matplotlib.image.AxesImage at 0x7f320e6e81d0>"
            ]
          },
          "metadata": {
            "tags": []
          },
          "execution_count": 4
        },
        {
          "output_type": "display_data",
          "data": {
            "image/png": "[encoded data removed]",
            "text/plain": [
              "<Figure size 432x288 with 1 Axes>"
            ]
          },
          "metadata": {
            "tags": []
          }
        }
      ]
    },
    {
      "cell_type": "code",
      "metadata": {
        "id": "KMfIvTOlFSXq",
        "colab_type": "code",
        "outputId": "a6a17595-7866-496e-a1d6-8bfbb26d2b4e",
        "colab": {
          "base_uri": "https://localhost:8080/",
          "height": 34
        }
      },
      "source": [
        "# 이미지에 대한 차원수를 높이자\n",
        "# layer의 input 으로 들어갈땐\n",
        "# [batch, width, height, channel] 이 모두 들어가야한다.\n",
        "image = image[tf.newaxis, ..., tf.newaxis]\n",
        "image.shape"
      ],
      "execution_count": 5,
      "outputs": [
        {
          "output_type": "execute_result",
          "data": {
            "text/plain": [
              "(1, 28, 28, 1)"
            ]
          },
          "metadata": {
            "tags": []
          },
          "execution_count": 5
        }
      ]
    },
    {
      "cell_type": "markdown",
      "metadata": {
        "id": "RyLlX2pzGXq-",
        "colab_type": "text"
      },
      "source": [
        "# Convolution\n",
        "\n",
        "- filter : layer에서 나갈 떄 몇개의 filter를 만들 것인가? \n",
        "- kernel_size : filter(Weight)의 사이즈\n",
        "- strides : 몇개의 pixel을 skip 하면서 훑어 나갈 것인지( 사이즈에 영향을 준다) \n",
        "- padding : zero padding을 만들 것인가?, Valid는 padding이 없고, Same은 padding이 있다\n",
        "- activation : Activation Function을 만들 것인가?, 설정을 안해도 Layer을 만들 수 는 있음"
      ]
    },
    {
      "cell_type": "code",
      "metadata": {
        "id": "fkExMlLFGVv1",
        "colab_type": "code",
        "outputId": "b6081a26-cd44-467f-cf0b-67748dbf5082",
        "colab": {
          "base_uri": "https://localhost:8080/",
          "height": 34
        }
      },
      "source": [
        "tf.keras.layers.Conv2D(filters=3, kernel_size=(3, 3), strides=(1, 1), padding='VALID', activation='relu')"
      ],
      "execution_count": 6,
      "outputs": [
        {
          "output_type": "execute_result",
          "data": {
            "text/plain": [
              "<tensorflow.python.keras.layers.convolutional.Conv2D at 0x7f320e753908>"
            ]
          },
          "metadata": {
            "tags": []
          },
          "execution_count": 6
        }
      ]
    },
    {
      "cell_type": "code",
      "metadata": {
        "id": "pZzjl58_HZdq",
        "colab_type": "code",
        "outputId": "7f743dbb-5429-497e-d97e-183f50e80bfb",
        "colab": {
          "base_uri": "https://localhost:8080/",
          "height": 34
        }
      },
      "source": [
        "# 위처럼 다 적을 필요 없이.. 아래와 같이도 가능하다.\n",
        "tf.keras.layers.Conv2D(3, 3, 1, 'SAME')"
      ],
      "execution_count": 7,
      "outputs": [
        {
          "output_type": "execute_result",
          "data": {
            "text/plain": [
              "<tensorflow.python.keras.layers.convolutional.Conv2D at 0x7f3295ad6cc0>"
            ]
          },
          "metadata": {
            "tags": []
          },
          "execution_count": 7
        }
      ]
    },
    {
      "cell_type": "markdown",
      "metadata": {
        "id": "zSS_bcq2HR0z",
        "colab_type": "text"
      },
      "source": [
        "Visualization\n",
        "\n",
        "- tf.keras.Conv2D"
      ]
    },
    {
      "cell_type": "markdown",
      "metadata": {
        "id": "ZZDMiOGRHcyM",
        "colab_type": "text"
      },
      "source": [
        "### Convolution 에 이미지 데이터를 넣어 output과 filtter들의 생김새를 확인해 보도록 하자."
      ]
    },
    {
      "cell_type": "code",
      "metadata": {
        "id": "tW3E8-ObG-xF",
        "colab_type": "code",
        "outputId": "7b1d5f4c-f396-4c07-ed62-5d4741ef6afe",
        "colab": {
          "base_uri": "https://localhost:8080/",
          "height": 34
        }
      },
      "source": [
        "image = tf.cast(image, dtype=tf.float32)\n",
        "image.dtype"
      ],
      "execution_count": 8,
      "outputs": [
        {
          "output_type": "execute_result",
          "data": {
            "text/plain": [
              "tf.float32"
            ]
          },
          "metadata": {
            "tags": []
          },
          "execution_count": 8
        }
      ]
    },
    {
      "cell_type": "code",
      "metadata": {
        "id": "AjSYXlqBOuTG",
        "colab_type": "code",
        "colab": {}
      },
      "source": [
        "layer = tf.keras.layers.Conv2D(filters=3, kernel_size=3, strides=(1, 1), padding='SAME')\n",
        "output = layer(image)"
      ],
      "execution_count": 0,
      "outputs": []
    },
    {
      "cell_type": "code",
      "metadata": {
        "id": "kmCUyc0AHlrW",
        "colab_type": "code",
        "outputId": "42ac0270-844d-4150-953f-eb52e3a66b38",
        "colab": {
          "base_uri": "https://localhost:8080/",
          "height": 324
        }
      },
      "source": [
        "weight = layer.get_weights()[0]\n",
        "\n",
        "plt.figure(figsize=(15, 5))\n",
        "plt.subplot(131)\n",
        "plt.hist(output.numpy().ravel(), range=[-2,2])\n",
        "plt.ylim(0, 500)\n",
        "plt.subplot(132)\n",
        "plt.title(weight.shape)\n",
        "plt.imshow(weight[:,:,0,0], 'gray')\n",
        "plt.subplot(133)\n",
        "plt.title(output.shape)\n",
        "plt.imshow(output[0, :, :, 0], 'gray')\n",
        "plt.colorbar()\n",
        "plt.show()"
      ],
      "execution_count": 10,
      "outputs": [
        {
          "output_type": "display_data",
          "data": {
            "image/png": "[encoded data removed]",
            "text/plain": [
              "<Figure size 1080x360 with 4 Axes>"
            ]
          },
          "metadata": {
            "tags": []
          }
        }
      ]
    },
    {
      "cell_type": "code",
      "metadata": {
        "id": "5mfziEbKPI_B",
        "colab_type": "code",
        "colab": {}
      },
      "source": [
        "layer = tf.keras.layers.ReLU()\n",
        "\n",
        "output = layer(output)"
      ],
      "execution_count": 0,
      "outputs": []
    },
    {
      "cell_type": "code",
      "metadata": {
        "id": "d5U2wW6BPl6R",
        "colab_type": "code",
        "outputId": "ef55f2b5-c90b-481b-f600-27908c59962c",
        "colab": {
          "base_uri": "https://localhost:8080/",
          "height": 324
        }
      },
      "source": [
        "plt.figure(figsize=(15, 5))\n",
        "plt.subplot(131)\n",
        "plt.hist(output.numpy().ravel(), range=[-2,2])\n",
        "plt.ylim(0, 100)\n",
        "plt.subplot(132)\n",
        "plt.title(output.shape)\n",
        "plt.imshow(output[0, :, :, 0], 'gray')\n",
        "plt.colorbar()\n",
        "plt.show()"
      ],
      "execution_count": 12,
      "outputs": [
        {
          "output_type": "display_data",
          "data": {
            "image/png": "[encoded data removed]",
            "text/plain": [
              "<Figure size 1080x360 with 3 Axes>"
            ]
          },
          "metadata": {
            "tags": []
          }
        }
      ]
    },
    {
      "cell_type": "markdown",
      "metadata": {
        "id": "m6h0W0YJRSUk",
        "colab_type": "text"
      },
      "source": [
        "![](https://miro.medium.com/max/1304/1*Sh9e6Hzx8ZcOinuLvy8Fmw.png)"
      ]
    },
    {
      "cell_type": "code",
      "metadata": {
        "id": "7UVQYXoePofz",
        "colab_type": "code",
        "colab": {}
      },
      "source": [
        "# Pooling 기법 사용 해보기  Max_pooling vs Mean_pooling\n",
        "# pool_size  : 몇개를 하나로 볼것인가\n",
        "# strides : 몇개의 pixel을 skip 하면서 훑어 나갈 것인지( 사이즈에 영향을 준다) \n",
        "# padding : zero padding을 만들 것인가?, \n",
        "\n",
        "layer = tf.keras.layers.MaxPool2D(pool_size=(2, 2), strides=(2, 2), padding='SAME')\n",
        "output = layer(output)"
      ],
      "execution_count": 0,
      "outputs": []
    },
    {
      "cell_type": "code",
      "metadata": {
        "id": "LopTaMEYSES0",
        "colab_type": "code",
        "outputId": "430e182e-d871-49ce-e22f-e4d4f1f0a41d",
        "colab": {
          "base_uri": "https://localhost:8080/",
          "height": 300
        }
      },
      "source": [
        "print(output.shape)\n",
        "\n",
        "plt.imshow(output[0, :, :, 0], 'gray')"
      ],
      "execution_count": 14,
      "outputs": [
        {
          "output_type": "stream",
          "text": [
            "(1, 14, 14, 3)\n"
          ],
          "name": "stdout"
        },
        {
          "output_type": "execute_result",
          "data": {
            "text/plain": [
              "<matplotlib.image.AxesImage at 0x7f32000eba20>"
            ]
          },
          "metadata": {
            "tags": []
          },
          "execution_count": 14
        },
        {
          "output_type": "display_data",
          "data": {
            "image/png": "[encoded data removed]",
            "text/plain": [
              "<Figure size 432x288 with 1 Axes>"
            ]
          },
          "metadata": {
            "tags": []
          }
        }
      ]
    },
    {
      "cell_type": "code",
      "metadata": {
        "id": "RH1BDMMcT9gY",
        "colab_type": "code",
        "colab": {}
      },
      "source": [
        ""
      ],
      "execution_count": 0,
      "outputs": []
    },
    {
      "cell_type": "code",
      "metadata": {
        "id": "U64z373-YiGm",
        "colab_type": "code",
        "colab": {}
      },
      "source": [
        ""
      ],
      "execution_count": 0,
      "outputs": []
    },
    {
      "cell_type": "markdown",
      "metadata": {
        "id": "asMHN2vNYkKw",
        "colab_type": "text"
      },
      "source": [
        "### Fully Connected"
      ]
    },
    {
      "cell_type": "markdown",
      "metadata": {
        "id": "MPp_OVWkebwB",
        "colab_type": "text"
      },
      "source": [
        "![](https://sds-platform-private.s3-us-east-2.amazonaws.com/uploads/73_blog_image_1.png)"
      ]
    },
    {
      "cell_type": "code",
      "metadata": {
        "id": "_9nUw76NYmps",
        "colab_type": "code",
        "outputId": "32478dba-cc4c-4b35-99b3-5077890ed012",
        "colab": {
          "base_uri": "https://localhost:8080/",
          "height": 34
        }
      },
      "source": [
        "# 1. Flatten 과정 \n",
        "# 위 output 의 형태는 (1, 14, 14, 3) 과 같다. \n",
        "# fully connected 과정에서는 이것을 1렬로 쭉 펴서 input으로 들어 가게 된다.\n",
        "# numpy 에서는 아래와 같이 reshape 를 할 수 있다. \n",
        "import numpy as np\n",
        "\n",
        "a = np.array([[1,2,3],[4,5,6]])\n",
        "a = a.reshape(-1)\n",
        "a"
      ],
      "execution_count": 15,
      "outputs": [
        {
          "output_type": "execute_result",
          "data": {
            "text/plain": [
              "array([1, 2, 3, 4, 5, 6])"
            ]
          },
          "metadata": {
            "tags": []
          },
          "execution_count": 15
        }
      ]
    },
    {
      "cell_type": "code",
      "metadata": {
        "id": "chlbRZWveoPQ",
        "colab_type": "code",
        "colab": {}
      },
      "source": [
        "# tensorflow 에서는 어떤 방법을 사용할까?\n",
        "# tf.keras.layers.Flatten()\n",
        "\n",
        "layer = tf.keras.layers.Flatten()\n",
        "flatten = layer(output)"
      ],
      "execution_count": 0,
      "outputs": []
    },
    {
      "cell_type": "code",
      "metadata": {
        "id": "ShzgxAyberCE",
        "colab_type": "code",
        "outputId": "c8c9e263-9311-4cd5-bed3-3309b0d83a2b",
        "colab": {
          "base_uri": "https://localhost:8080/",
          "height": 34
        }
      },
      "source": [
        "flatten.shape"
      ],
      "execution_count": 17,
      "outputs": [
        {
          "output_type": "execute_result",
          "data": {
            "text/plain": [
              "TensorShape([1, 588])"
            ]
          },
          "metadata": {
            "tags": []
          },
          "execution_count": 17
        }
      ]
    },
    {
      "cell_type": "code",
      "metadata": {
        "id": "OJ1FiDfofDWS",
        "colab_type": "code",
        "outputId": "c503a489-b7a5-49f7-81e2-47accc4aa43c",
        "colab": {
          "base_uri": "https://localhost:8080/",
          "height": 34
        }
      },
      "source": [
        "# 위의 588은 어떤 값일까 ?\n",
        "# 이전위에서 feature extraction 과정중 마지막 max-pooling 과정을 한 후 의 shape의 곱과 같다.\n",
        "14 * 14 * 3"
      ],
      "execution_count": 18,
      "outputs": [
        {
          "output_type": "execute_result",
          "data": {
            "text/plain": [
              "588"
            ]
          },
          "metadata": {
            "tags": []
          },
          "execution_count": 18
        }
      ]
    },
    {
      "cell_type": "code",
      "metadata": {
        "id": "qpNk1oBhfOJG",
        "colab_type": "code",
        "outputId": "f30586ad-9aa4-450a-dc67-4f3d47677b49",
        "colab": {
          "base_uri": "https://localhost:8080/",
          "height": 261
        }
      },
      "source": [
        "plt.figure(figsize=(10,5))\n",
        "plt.subplot(211)\n",
        "plt.hist(flatten.numpy().ravel())\n",
        "\n",
        "plt.subplot(212)\n",
        "plt.imshow(flatten[:, :100],'jet')\n",
        "plt.show()"
      ],
      "execution_count": 19,
      "outputs": [
        {
          "output_type": "display_data",
          "data": {
            "image/png": "[encoded data removed]",
            "text/plain": [
              "<Figure size 720x360 with 2 Axes>"
            ]
          },
          "metadata": {
            "tags": []
          }
        }
      ]
    },
    {
      "cell_type": "code",
      "metadata": {
        "id": "iCCh5EKrfmuj",
        "colab_type": "code",
        "outputId": "f7a8bf8c-c5a1-43f6-eeca-f5e618df6241",
        "colab": {
          "base_uri": "https://localhost:8080/",
          "height": 34
        }
      },
      "source": [
        "# Dense\n",
        "# 첫번째 숫자는 unit = 내보낼 값, 다음 몇개의 노드를 만들것인가를 정하는것이다.\n",
        "\n",
        "tf.keras.layers.Dense(32, activation = 'relu')"
      ],
      "execution_count": 20,
      "outputs": [
        {
          "output_type": "execute_result",
          "data": {
            "text/plain": [
              "<tensorflow.python.keras.layers.core.Dense at 0x7f320e27cb38>"
            ]
          },
          "metadata": {
            "tags": []
          },
          "execution_count": 20
        }
      ]
    },
    {
      "cell_type": "code",
      "metadata": {
        "id": "Y9vulwmAhCxQ",
        "colab_type": "code",
        "colab": {}
      },
      "source": [
        "layer = tf.keras.layers.Dense(32, activation='relu')\n",
        "output = layer(flatten)"
      ],
      "execution_count": 0,
      "outputs": []
    },
    {
      "cell_type": "code",
      "metadata": {
        "id": "BYG4VKnchNME",
        "colab_type": "code",
        "outputId": "a629a3ad-b274-4215-924d-bc19f4853af1",
        "colab": {
          "base_uri": "https://localhost:8080/",
          "height": 34
        }
      },
      "source": [
        "output.shape"
      ],
      "execution_count": 22,
      "outputs": [
        {
          "output_type": "execute_result",
          "data": {
            "text/plain": [
              "TensorShape([1, 32])"
            ]
          },
          "metadata": {
            "tags": []
          },
          "execution_count": 22
        }
      ]
    },
    {
      "cell_type": "code",
      "metadata": {
        "id": "You-A3VZhQbW",
        "colab_type": "code",
        "outputId": "743728e4-bf2c-461c-ed83-168f201c3aa7",
        "colab": {
          "base_uri": "https://localhost:8080/",
          "height": 34
        }
      },
      "source": [
        "layer = tf.keras.layers.Dense(10, activation='relu')\n",
        "output = layer(flatten)\n",
        "output.shape"
      ],
      "execution_count": 23,
      "outputs": [
        {
          "output_type": "execute_result",
          "data": {
            "text/plain": [
              "TensorShape([1, 10])"
            ]
          },
          "metadata": {
            "tags": []
          },
          "execution_count": 23
        }
      ]
    },
    {
      "cell_type": "code",
      "metadata": {
        "id": "K-QWNARFh-An",
        "colab_type": "code",
        "outputId": "8c82fac6-2029-4009-99ab-1c6e3afedb1e",
        "colab": {
          "base_uri": "https://localhost:8080/",
          "height": 34
        }
      },
      "source": [
        "# dropout\n",
        "# dropout에 관해서는 제 git NLP repository에 정리해 두었습니다.\n",
        "\n",
        "layer = tf.keras.layers.Dropout(0.7)\n",
        "output = layer(output)\n",
        "output.shape\n",
        "# shape에는 별다른 변화가 없다."
      ],
      "execution_count": 24,
      "outputs": [
        {
          "output_type": "execute_result",
          "data": {
            "text/plain": [
              "TensorShape([1, 10])"
            ]
          },
          "metadata": {
            "tags": []
          },
          "execution_count": 24
        }
      ]
    },
    {
      "cell_type": "code",
      "metadata": {
        "id": "fdgXBfhSnyCI",
        "colab_type": "code",
        "colab": {}
      },
      "source": [
        ""
      ],
      "execution_count": 0,
      "outputs": []
    },
    {
      "cell_type": "code",
      "metadata": {
        "id": "YxX3zy1ZoSq2",
        "colab_type": "code",
        "colab": {}
      },
      "source": [
        ""
      ],
      "execution_count": 0,
      "outputs": []
    },
    {
      "cell_type": "code",
      "metadata": {
        "id": "4qyDysfboSXj",
        "colab_type": "code",
        "colab": {}
      },
      "source": [
        ""
      ],
      "execution_count": 0,
      "outputs": []
    },
    {
      "cell_type": "code",
      "metadata": {
        "id": "9fNdT-ZWoSUe",
        "colab_type": "code",
        "colab": {}
      },
      "source": [
        ""
      ],
      "execution_count": 0,
      "outputs": []
    },
    {
      "cell_type": "markdown",
      "metadata": {
        "id": "8IvLq4yMoToi",
        "colab_type": "text"
      },
      "source": [
        "### Build Model"
      ]
    },
    {
      "cell_type": "code",
      "metadata": {
        "id": "OIwZ24IfoVIV",
        "colab_type": "code",
        "colab": {}
      },
      "source": [
        "# 모델을 설계 해보자\n",
        "\n",
        "# 미리 layers를 지정해줘서 위에 \n",
        "# latf.keras.layers.Dropout(0.7) 처럼 길게 쓰지 않고 layers를 사용할 수 있다. \n",
        "from tensorflow.keras import layers\n",
        "\n",
        "# 먼저 input으로 들어갈 shape을 지정해줘야 한다.\n",
        "input_shape = (28, 28, 1)\n",
        "num_classes = 10"
      ],
      "execution_count": 0,
      "outputs": []
    },
    {
      "cell_type": "code",
      "metadata": {
        "id": "0T1YaYsmpBpr",
        "colab_type": "code",
        "colab": {}
      },
      "source": [
        "# Feature Extraction\n",
        "\n",
        "inputs = layers.Input(shape = input_shape)\n",
        "\n",
        "###### Convolution Block  #####\n",
        "# 처음에는 input이 들어가고\n",
        "net = layers.Conv2D(32, 3, padding='SAME')(inputs)\n",
        "# 다음부터는 net만 들어간다.\n",
        "net = layers.Activation('relu')(net)\n",
        "net = layers.Conv2D(32, 3, padding='SAME')(net)\n",
        "net = layers.Activation('relu')(net)\n",
        "net = layers.MaxPooling2D(pool_size=(2, 2))(net)\n",
        "net = layers.Dropout(0.25)(net)\n",
        "###### 여기까지가 Convolution Block 이라고 한다. #####\n",
        "\n",
        "\n",
        "net = layers.Conv2D(64, 3, padding='SAME')(net)\n",
        "net = layers.Activation('relu')(net)\n",
        "net = layers.Conv2D(64, 3, padding='SAME')(net)\n",
        "net = layers.Activation('relu')(net)\n",
        "net = layers.Dropout(0.25)(net)\n",
        "\n"
      ],
      "execution_count": 0,
      "outputs": []
    },
    {
      "cell_type": "code",
      "metadata": {
        "id": "MEXLuwjR3R0Q",
        "colab_type": "code",
        "colab": {}
      },
      "source": [
        "# Fully Connected\n",
        "\n",
        "\n",
        "net = layers.Flatten()(net)\n",
        "net = layers.Dense(512)(net)\n",
        "net = layers.Activation('relu')(net)\n",
        "net = layers.Dropout(0.25)(net)\n",
        "net = layers.Dense(num_classes)(net) # num_classes = 10\n",
        "# softmax 를 사용하여 확률값으려 변환 , 값을 더하면 1\n",
        "net = layers.Activation('softmax')(net)"
      ],
      "execution_count": 0,
      "outputs": []
    },
    {
      "cell_type": "code",
      "metadata": {
        "id": "GFmzuSSP4Dm5",
        "colab_type": "code",
        "colab": {}
      },
      "source": [
        "model = tf.keras.Model(inputs=inputs, outputs=net, name='Basic_CNN')"
      ],
      "execution_count": 0,
      "outputs": []
    },
    {
      "cell_type": "code",
      "metadata": {
        "id": "etDvc0Qt6CVf",
        "colab_type": "code",
        "outputId": "42eaf213-9371-4b6a-f9f3-50d3d5a368d9",
        "colab": {
          "base_uri": "https://localhost:8080/",
          "height": 791
        }
      },
      "source": [
        "model.summary()"
      ],
      "execution_count": 29,
      "outputs": [
        {
          "output_type": "stream",
          "text": [
            "Model: \"Basic_CNN\"\n",
            "_________________________________________________________________\n",
            "Layer (type)                 Output Shape              Param #   \n",
            "=================================================================\n",
            "input_1 (InputLayer)         [(None, 28, 28, 1)]       0         \n",
            "_________________________________________________________________\n",
            "conv2d_3 (Conv2D)            (None, 28, 28, 32)        320       \n",
            "_________________________________________________________________\n",
            "activation (Activation)      (None, 28, 28, 32)        0         \n",
            "_________________________________________________________________\n",
            "conv2d_4 (Conv2D)            (None, 28, 28, 32)        9248      \n",
            "_________________________________________________________________\n",
            "activation_1 (Activation)    (None, 28, 28, 32)        0         \n",
            "_________________________________________________________________\n",
            "max_pooling2d_1 (MaxPooling2 (None, 14, 14, 32)        0         \n",
            "_________________________________________________________________\n",
            "dropout_1 (Dropout)          (None, 14, 14, 32)        0         \n",
            "_________________________________________________________________\n",
            "conv2d_5 (Conv2D)            (None, 14, 14, 64)        18496     \n",
            "_________________________________________________________________\n",
            "activation_2 (Activation)    (None, 14, 14, 64)        0         \n",
            "_________________________________________________________________\n",
            "conv2d_6 (Conv2D)            (None, 14, 14, 64)        36928     \n",
            "_________________________________________________________________\n",
            "activation_3 (Activation)    (None, 14, 14, 64)        0         \n",
            "_________________________________________________________________\n",
            "dropout_2 (Dropout)          (None, 14, 14, 64)        0         \n",
            "_________________________________________________________________\n",
            "flatten_1 (Flatten)          (None, 12544)             0         \n",
            "_________________________________________________________________\n",
            "dense_3 (Dense)              (None, 512)               6423040   \n",
            "_________________________________________________________________\n",
            "activation_4 (Activation)    (None, 512)               0         \n",
            "_________________________________________________________________\n",
            "dropout_3 (Dropout)          (None, 512)               0         \n",
            "_________________________________________________________________\n",
            "dense_4 (Dense)              (None, 10)                5130      \n",
            "_________________________________________________________________\n",
            "activation_5 (Activation)    (None, 10)                0         \n",
            "=================================================================\n",
            "Total params: 6,493,162\n",
            "Trainable params: 6,493,162\n",
            "Non-trainable params: 0\n",
            "_________________________________________________________________\n"
          ],
          "name": "stdout"
        }
      ]
    },
    {
      "cell_type": "code",
      "metadata": {
        "id": "LQJfeE3e6Y2v",
        "colab_type": "code",
        "colab": {}
      },
      "source": [
        ""
      ],
      "execution_count": 0,
      "outputs": []
    },
    {
      "cell_type": "code",
      "metadata": {
        "id": "vEtFfrEbCCyY",
        "colab_type": "code",
        "colab": {}
      },
      "source": [
        ""
      ],
      "execution_count": 0,
      "outputs": []
    },
    {
      "cell_type": "markdown",
      "metadata": {
        "id": "3xbv6By5CHDH",
        "colab_type": "text"
      },
      "source": [
        "# Optimizer & Traning \n",
        "\n",
        "- tf와 layers 패키지 불러오기"
      ]
    },
    {
      "cell_type": "code",
      "metadata": {
        "id": "dUuBBie4CDuL",
        "colab_type": "code",
        "colab": {}
      },
      "source": [
        "import tensorflow as tf\n",
        "from tensorflow.keras import layers\n",
        "\n",
        "# 위에서 했던 과정 반복\n",
        "\n",
        "(train_x, train_y), (test_x, test_y) = tf.keras.datasets.mnist.load_data()\n",
        "\n",
        "model2 = tf.keras.Model(inputs=inputs, outputs=net, name='Basic_CNN')"
      ],
      "execution_count": 0,
      "outputs": []
    },
    {
      "cell_type": "markdown",
      "metadata": {
        "id": "jW84X1a-DTLf",
        "colab_type": "text"
      },
      "source": [
        "#### Loss Function\n",
        "Loss Function 방법들을 확인 해보자\n",
        "\n",
        "crossentropy종류\n",
        "__Categorical vs Binary__"
      ]
    },
    {
      "cell_type": "code",
      "metadata": {
        "id": "5WCb5PEOC28q",
        "colab_type": "code",
        "colab": {}
      },
      "source": [
        "loss = 'binary_crossentropy'\n",
        "loss = 'categorical_crossentropy'"
      ],
      "execution_count": 0,
      "outputs": []
    },
    {
      "cell_type": "code",
      "metadata": {
        "id": "LUreg8aCDrsK",
        "colab_type": "code",
        "outputId": "edc433e5-21ea-4ee1-a2ac-617bc646b47a",
        "colab": {
          "base_uri": "https://localhost:8080/",
          "height": 34
        }
      },
      "source": [
        "# one-hot encoding 을 하지 않았을 경우\n",
        "tf.keras.losses.sparse_categorical_crossentropy"
      ],
      "execution_count": 32,
      "outputs": [
        {
          "output_type": "execute_result",
          "data": {
            "text/plain": [
              "<function tensorflow.python.keras.losses.sparse_categorical_crossentropy>"
            ]
          },
          "metadata": {
            "tags": []
          },
          "execution_count": 32
        }
      ]
    },
    {
      "cell_type": "code",
      "metadata": {
        "id": "Od73ghd5D55u",
        "colab_type": "code",
        "outputId": "5bc5b24c-23aa-4a5a-cc9d-0f07e012fcdb",
        "colab": {
          "base_uri": "https://localhost:8080/",
          "height": 34
        }
      },
      "source": [
        "# 되어 있다면\n",
        "tf.keras.losses.categorical_crossentropy"
      ],
      "execution_count": 33,
      "outputs": [
        {
          "output_type": "execute_result",
          "data": {
            "text/plain": [
              "<function tensorflow.python.keras.losses.categorical_crossentropy>"
            ]
          },
          "metadata": {
            "tags": []
          },
          "execution_count": 33
        }
      ]
    },
    {
      "cell_type": "code",
      "metadata": {
        "id": "IcZtDULFD_4h",
        "colab_type": "code",
        "colab": {}
      },
      "source": [
        "loss = tf.keras.losses.sparse_categorical_crossentropy"
      ],
      "execution_count": 0,
      "outputs": []
    },
    {
      "cell_type": "code",
      "metadata": {
        "id": "G-E6AC3qEgTj",
        "colab_type": "code",
        "colab": {}
      },
      "source": [
        "# 여기 까지가 loss function 정의 방법"
      ],
      "execution_count": 0,
      "outputs": []
    },
    {
      "cell_type": "code",
      "metadata": {
        "id": "TraqASqdE2hF",
        "colab_type": "code",
        "colab": {}
      },
      "source": [
        ""
      ],
      "execution_count": 0,
      "outputs": []
    },
    {
      "cell_type": "code",
      "metadata": {
        "id": "WSMIeXGuE3g8",
        "colab_type": "code",
        "colab": {}
      },
      "source": [
        ""
      ],
      "execution_count": 0,
      "outputs": []
    },
    {
      "cell_type": "markdown",
      "metadata": {
        "id": "h6Tq5kQaFJVX",
        "colab_type": "text"
      },
      "source": [
        "### Metrics \n",
        "모델 평가 방법  \n",
        "accuracy를 이름으로 넣는 방법"
      ]
    },
    {
      "cell_type": "code",
      "metadata": {
        "id": "uiT5Fo9fFP6L",
        "colab_type": "code",
        "colab": {}
      },
      "source": [
        "metrics = ['accuracy']"
      ],
      "execution_count": 0,
      "outputs": []
    },
    {
      "cell_type": "code",
      "metadata": {
        "id": "dnYdgBCKFSZc",
        "colab_type": "code",
        "colab": {}
      },
      "source": [
        "# metrics = [tf.keras.metrics.Accuracy()]\n",
        "# 위방법으로 써도 된다. "
      ],
      "execution_count": 0,
      "outputs": []
    },
    {
      "cell_type": "code",
      "metadata": {
        "id": "r7EHKUVLFcaa",
        "colab_type": "code",
        "colab": {}
      },
      "source": [
        ""
      ],
      "execution_count": 0,
      "outputs": []
    },
    {
      "cell_type": "markdown",
      "metadata": {
        "id": "yQ0emJVpFh-W",
        "colab_type": "text"
      },
      "source": [
        "### Compile\n",
        "__Optimizer__ 적용  \n",
        "\n",
        "\n",
        "- SGD\n",
        "- RMSPROP\n",
        "- ADAM"
      ]
    },
    {
      "cell_type": "code",
      "metadata": {
        "id": "Rj113OYRFhuy",
        "colab_type": "code",
        "colab": {}
      },
      "source": [
        "optm = tf.keras.optimizers.Adam()"
      ],
      "execution_count": 0,
      "outputs": []
    },
    {
      "cell_type": "code",
      "metadata": {
        "id": "GOszPKnyF9Pu",
        "colab_type": "code",
        "colab": {}
      },
      "source": [
        "model.compile(optimizer=optm, loss=loss, metrics=metrics)"
      ],
      "execution_count": 0,
      "outputs": []
    },
    {
      "cell_type": "code",
      "metadata": {
        "id": "GbJnUxSMGmkX",
        "colab_type": "code",
        "colab": {}
      },
      "source": [
        ""
      ],
      "execution_count": 0,
      "outputs": []
    },
    {
      "cell_type": "code",
      "metadata": {
        "id": "-YYPFrZOGmhR",
        "colab_type": "code",
        "colab": {}
      },
      "source": [
        ""
      ],
      "execution_count": 0,
      "outputs": []
    },
    {
      "cell_type": "markdown",
      "metadata": {
        "id": "ucDdgHAMGQ5X",
        "colab_type": "text"
      },
      "source": [
        "### Prepare Dataset\n",
        "학습에 사용할 데이터셋들을 준비하자"
      ]
    },
    {
      "cell_type": "code",
      "metadata": {
        "id": "6oIvKYeTGsGr",
        "colab_type": "code",
        "outputId": "b2e8b6c2-a6b5-4c2e-e094-bec5181b350f",
        "colab": {
          "base_uri": "https://localhost:8080/",
          "height": 34
        }
      },
      "source": [
        "train_x.shape"
      ],
      "execution_count": 40,
      "outputs": [
        {
          "output_type": "execute_result",
          "data": {
            "text/plain": [
              "(60000, 28, 28)"
            ]
          },
          "metadata": {
            "tags": []
          },
          "execution_count": 40
        }
      ]
    },
    {
      "cell_type": "code",
      "metadata": {
        "id": "EVW1jSFxGtDV",
        "colab_type": "code",
        "outputId": "b75f1de9-5e60-4698-8c39-1314e144d556",
        "colab": {
          "base_uri": "https://localhost:8080/",
          "height": 34
        }
      },
      "source": [
        "# 차원수를 늘리기 위의 값은 channel 값이 없는 3차원\n",
        "# 우리는 gray scale 로 할꺼기 때문에 \n",
        "# RGB 로 학습할꺼면 늘릴 필요가 없다.\n",
        "train_x = train_x[..., tf.newaxis]\n",
        "train_x.shape"
      ],
      "execution_count": 41,
      "outputs": [
        {
          "output_type": "execute_result",
          "data": {
            "text/plain": [
              "(60000, 28, 28, 1)"
            ]
          },
          "metadata": {
            "tags": []
          },
          "execution_count": 41
        }
      ]
    },
    {
      "cell_type": "code",
      "metadata": {
        "id": "KhUJvXvoHS-B",
        "colab_type": "code",
        "outputId": "ca1ece59-5fd0-404d-8f20-d88c8fe8fba3",
        "colab": {
          "base_uri": "https://localhost:8080/",
          "height": 34
        }
      },
      "source": [
        "# Rescaling \n",
        "\n",
        "np.min(train_x), np.max(train_x)"
      ],
      "execution_count": 42,
      "outputs": [
        {
          "output_type": "execute_result",
          "data": {
            "text/plain": [
              "(0, 255)"
            ]
          },
          "metadata": {
            "tags": []
          },
          "execution_count": 42
        }
      ]
    },
    {
      "cell_type": "code",
      "metadata": {
        "id": "udftC13LHpUe",
        "colab_type": "code",
        "outputId": "674059a8-750c-4d8a-9600-ef6384da1780",
        "colab": {
          "base_uri": "https://localhost:8080/",
          "height": 34
        }
      },
      "source": [
        "train_x = train_x / 255\n",
        "test_x = test_x /255\n",
        "\n",
        "\n",
        "np.min(train_x), np.max(train_x)"
      ],
      "execution_count": 43,
      "outputs": [
        {
          "output_type": "execute_result",
          "data": {
            "text/plain": [
              "(0.0, 1.0)"
            ]
          },
          "metadata": {
            "tags": []
          },
          "execution_count": 43
        }
      ]
    },
    {
      "cell_type": "code",
      "metadata": {
        "id": "knXNOjtvHz8Q",
        "colab_type": "code",
        "colab": {}
      },
      "source": [
        ""
      ],
      "execution_count": 0,
      "outputs": []
    },
    {
      "cell_type": "code",
      "metadata": {
        "id": "TVVyHnJOIZfW",
        "colab_type": "code",
        "colab": {}
      },
      "source": [
        ""
      ],
      "execution_count": 0,
      "outputs": []
    },
    {
      "cell_type": "code",
      "metadata": {
        "id": "_EdgZjomIZYw",
        "colab_type": "code",
        "colab": {}
      },
      "source": [
        ""
      ],
      "execution_count": 0,
      "outputs": []
    },
    {
      "cell_type": "markdown",
      "metadata": {
        "id": "kNw94QW4IcTG",
        "colab_type": "text"
      },
      "source": [
        "### Training\n",
        "\n",
        "학습용 Hyperparmetre 설정\n",
        "- num_epochs\n",
        "- batch_size"
      ]
    },
    {
      "cell_type": "code",
      "metadata": {
        "id": "iG_ymh0_IjzE",
        "colab_type": "code",
        "colab": {}
      },
      "source": [
        "num_epochs = 1\n",
        "batch_size = 32"
      ],
      "execution_count": 0,
      "outputs": []
    },
    {
      "cell_type": "markdown",
      "metadata": {
        "id": "VB2H5xU8Ixdu",
        "colab_type": "text"
      },
      "source": [
        "- model.fit"
      ]
    },
    {
      "cell_type": "code",
      "metadata": {
        "id": "AC5E0vRtIwT4",
        "colab_type": "code",
        "outputId": "10556402-194e-4c23-a662-da3251025380",
        "colab": {
          "base_uri": "https://localhost:8080/",
          "height": 52
        }
      },
      "source": [
        "model.fit(train_x, train_y, batch_size = batch_size, shuffle= True, epochs=num_epochs)"
      ],
      "execution_count": 45,
      "outputs": [
        {
          "output_type": "stream",
          "text": [
            "1875/1875 [==============================] - 20s 11ms/step - loss: 0.1194 - accuracy: 0.9627\n"
          ],
          "name": "stdout"
        },
        {
          "output_type": "execute_result",
          "data": {
            "text/plain": [
              "<tensorflow.python.keras.callbacks.History at 0x7f31ecef8048>"
            ]
          },
          "metadata": {
            "tags": []
          },
          "execution_count": 45
        }
      ]
    },
    {
      "cell_type": "code",
      "metadata": {
        "id": "E3nviBElJTCd",
        "colab_type": "code",
        "colab": {}
      },
      "source": [
        ""
      ],
      "execution_count": 0,
      "outputs": []
    }
  ]
}